{
 "cells": [
  {
   "cell_type": "code",
   "execution_count": 9,
   "metadata": {},
   "outputs": [],
   "source": [
    "import numpy as np\n",
    "import matplotlib.pyplot as plt"
   ]
  },
  {
   "cell_type": "code",
   "execution_count": 10,
   "metadata": {},
   "outputs": [],
   "source": [
    "def h(x):\n",
    "    if x<1 or x>1:\n",
    "        y=0\n",
    "    else:\n",
    "        y=(np.cos(50*x)+np.sin(20*x))\n",
    "    return y\n",
    "hv=np.vectorize(h)"
   ]
  },
  {
   "cell_type": "code",
   "execution_count": 16,
   "metadata": {},
   "outputs": [
    {
     "data": {
      "text/plain": [
       "[<matplotlib.lines.Line2D at 0x1d9d3027650>]"
      ]
     },
     "execution_count": 16,
     "metadata": {},
     "output_type": "execute_result"
    },
    {
     "data": {
      "image/png": "[encoded data removed]",
      "text/plain": [
       "<Figure size 640x480 with 1 Axes>"
      ]
     },
     "metadata": {},
     "output_type": "display_data"
    }
   ],
   "source": [
    "X=np.linspace(-1,2,num=1000)\n",
    "plt.plot(X,hv(X))"
   ]
  },
  {
   "cell_type": "code",
   "execution_count": 12,
   "metadata": {},
   "outputs": [],
   "source": [
    "def simple_greedy_search(func, start=0, N=100):\n",
    "    x =start\n",
    "    history=[]\n",
    "    for i in range(N):\n",
    "        history.append(x) #keep track of steps\n",
    "        u=0.001 #np.random.rand() some junk\n",
    "        xleft, xright=x-u, x+u #look left and right \n",
    "        yleft, yright=func(xleft), func(xright)\n",
    "        if yleft>yright:\n",
    "            x=xleft\n",
    "        else:\n",
    "            x=xright\n",
    "    return x, func(x), history"
   ]
  },
  {
   "cell_type": "code",
   "execution_count": 13,
   "metadata": {},
   "outputs": [],
   "source": [
    "def Simannl(search_space, func, T):\n",
    "    scale =np.squrt(T) \n",
    "    start=np.random.choice(search_space)\n",
    "    x=start+1\n",
    "    cur=func[x]\n",
    "    history=[x]\n",
    "    for i in range(1000):\n",
    "        prop = x + np.random.normal()*scale #.uniform(-1,1, size=1)*scale\n",
    "        if prop >1 or prop <0 or np.log(np.random.rand())*T>(func(prop)-cur):\n",
    "            prop=x\n",
    "        x=prop\n",
    "        cur=func(x)\n",
    "        T=0.9*T #reduce by 10% each iteration\n",
    "        history.append(x)\n",
    "    return x, history"
   ]
  }
 ],
 "metadata": {
  "kernelspec": {
   "display_name": "Python 3",
   "language": "python",
   "name": "python3"
  },
  "language_info": {
   "codemirror_mode": {
    "name": "ipython",
    "version": 3
   },
   "file_extension": ".py",
   "mimetype": "text/x-python",
   "name": "python",
   "nbconvert_exporter": "python",
   "pygments_lexer": "ipython3",
   "version": "3.11.1"
  },
  "orig_nbformat": 4
 },
 "nbformat": 4,
 "nbformat_minor": 2
}
